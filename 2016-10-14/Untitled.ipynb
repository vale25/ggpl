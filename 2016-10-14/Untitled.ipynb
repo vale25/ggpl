{
 "cells": [
  {
   "cell_type": "markdown",
   "metadata": {},
   "source": [
    "# workshop_02"
   ]
  },
  {
   "cell_type": "code",
   "execution_count": null,
   "metadata": {
    "collapsed": true
   },
   "outputs": [],
   "source": [
    "from pyplasm import *\n",
    "from larlib import *\n",
    "import csv\n",
    "\n",
    "def ggpl_bone_structure(file_name):\n",
    "    "
   ]
  },
  {
   "cell_type": "code",
   "execution_count": null,
   "metadata": {
    "collapsed": true
   },
   "outputs": [],
   "source": [
    "def structureFrame(beamDimensions, pillarDimensions, pillarDistances, beamDistances):\n",
    "\t\"\"\" \n",
    "\tCreates a space frame of reinforced concrete including beams, pillars and footings\n",
    "\t:param beamDimensions: dimensions of beam section\n",
    "\t:param pillarDimensions: dimensions of pillar section\n",
    "\t:param pillarDistances: distances between axes of the pillars\n",
    "\t:param beamDistances: interstory heights\n",
    "\t:return: an HPC object\n",
    "\t\"\"\"\n",
    "\n",
    "\t(px, py) = pillarDimensions\n",
    "\t(bx, bz) = beamDimensions\n",
    "\t\n",
    "\t# PILLARS\n",
    "\n",
    "\tpillarY = []\n",
    "\tpillarZ = []\n",
    "\n",
    "\tfor i in range(0, len(pillarDistances)):\n",
    "\t\tpillarY.extend([py, -pillarDistances[i]])\n",
    "\n",
    "\tpillarBase = PROD([QUOTE([px]), QUOTE(pillarY)])\n",
    "\t\n",
    "\tfor i in range(0, len(beamDistances)):\n",
    "\t\tpillarZ.extend([beamDistances[i], -bz])\n",
    "\n",
    "\tpillars = PROD([pillarBase, QUOTE(pillarZ)])\n",
    "\n",
    "\t# BEAMS\n",
    "\n",
    "\tbeamY = []\n",
    "\tbeamZ = []\n",
    "\n",
    "\tfor i in range(0, len(beamDistances)):\n",
    "\t\tbeamZ.extend([-beamDistances[i], bz])\n",
    "\n",
    "\tfor i in range(0, len(pillarDistances)-1):\n",
    "\t\tif i==0 or i==len(pillarDistances)-2:\n",
    "\t\t\tprint(pillarDistances[i])\n",
    "\t\t\tbeamY.append(pillarDistances[i]+py*3/2.0)\n",
    "\t\telse:\n",
    "\t\t\tbeamY.append(pillarDistances[i]+py)\n",
    "\t\t\tprint(pillarDistances[i])\n",
    "\n",
    "\tbeamBase = PROD([QUOTE([bx]), QUOTE(beamY)])\n",
    "\n",
    "\tbeams = PROD([beamBase, QUOTE(beamZ)])\n",
    "\n",
    "\tstructure = STRUCT([pillars, beams])\n",
    "\treturn structure\n",
    "\n",
    "#if __name__ == \"__main__\":\n",
    "#\ts = structureFrame([1,1], [1,2], [3,6,2,3,6,8], [4,3,2,5,7,2])\n",
    "#\tVIEW(s)"
   ]
  }
 ],
 "metadata": {
  "kernelspec": {
   "display_name": "Python 2",
   "language": "python",
   "name": "python2"
  },
  "language_info": {
   "codemirror_mode": {
    "name": "ipython",
    "version": 2
   },
   "file_extension": ".py",
   "mimetype": "text/x-python",
   "name": "python",
   "nbconvert_exporter": "python",
   "pygments_lexer": "ipython2",
   "version": "2.7.3"
  }
 },
 "nbformat": 4,
 "nbformat_minor": 1
}

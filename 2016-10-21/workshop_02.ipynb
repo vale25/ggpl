{
 "cells": [
  {
   "cell_type": "markdown",
   "metadata": {},
   "source": [
    "# workshop_02"
   ]
  },
  {
   "cell_type": "markdown",
   "metadata": {},
   "source": [
    "model of the reinforced concrete structure used to develop the workshop:"
   ]
  },
  {
   "cell_type": "markdown",
   "metadata": {},
   "source": [
    "<img src=\"structure.jpg\">"
   ]
  },
  {
   "cell_type": "markdown",
   "metadata": {},
   "source": [
    "importing libraries, previous workshop, and define principal function"
   ]
  },
  {
   "cell_type": "code",
   "execution_count": null,
   "metadata": {
    "collapsed": true
   },
   "outputs": [],
   "source": [
    "from pyplasm import *\n",
    "from larlib import *\n",
    "import csv\n",
    "import workshop_01\n",
    "\n",
    "def ggpl_bone_structure(file_name):\n",
    "\t\"\"\" \n",
    "\tcreates a reinforced concrete structure\n",
    "\t:param file_name: csv file that provides values for the constructions of the structure\n",
    "\t:return: an HPC object\n",
    "\t\"\"\""
   ]
  },
  {
   "cell_type": "markdown",
   "metadata": {},
   "source": [
    "reads values from the csv file and imports them into lists"
   ]
  },
  {
   "cell_type": "code",
   "execution_count": null,
   "metadata": {
    "collapsed": true
   },
   "outputs": [],
   "source": [
    "\tbeamDim = []\n",
    "\tpillarDim = []\n",
    "\tbeamDist = []\n",
    "\tpillarDist = []\n",
    "\tframeDistancesX = []\n",
    "\tframeDistancesY = []\n",
    "\tframeDistancesZ = []\n",
    "\n",
    "\t# reads values from the csv file and put them into lists\n",
    "\n",
    "\twith open(file_name, 'r') as f:\n",
    "\t\treaderEven = csv.reader(f, delimiter=';', quotechar=',')\n",
    "\t\tfor i, row in enumerate(readerEven):\n",
    "\t\t\tif (i+1)%2.0==0:\n",
    "\t\t\t\tbeamDim.append((row[0].split(\",\")))\n",
    "\t\t\t\tpillarDim.append((row[1].split(\",\")))\n",
    "\t\t\t\tbeamDist.append((row[2].split(\",\")))\n",
    "\t\t\t\tpillarDist.append((row[3].split(\",\")))\n",
    "\t\t\n",
    "\twith open(file_name, 'r') as f:\n",
    "\t\treaderOdd = csv.reader(f, delimiter=',')\n",
    "\t\tfor i, row in enumerate(readerOdd):\n",
    "\t\t\tif (i+1)%2.0!=0:\n",
    "\t\t\t\tframeDistancesX.append(float(row[0]))\n",
    "\t\t\t\tframeDistancesY.append(float(row[1]))\n",
    "\t\t\t\tframeDistancesZ.append(float(row[2]))\t\n",
    "\n",
    "\t# creates new lists and casts values from string to float \n",
    "\n",
    "\tbeamDimensions = []\n",
    "\tpillarDimensions = []\n",
    "\tbeamDistances = []\n",
    "\tpillarDistances = []\n",
    "\n",
    "\tfor i in range(0, len(beamDim)):\n",
    "\t\tbeamDimensions.extend([(float(beamDim[i][0]), float(beamDim[i][1]))])\n",
    "\n",
    "\tfor i in range(0, len(pillarDim)):\n",
    "\t\tpillarDimensions.extend([(float(pillarDim[i][0]), float(pillarDim[i][1]))])\n",
    "\n",
    "\tfor i in range(0, len(beamDist)):\n",
    "\t\tbeamDistances.append([])\n",
    "\t\tfor j in range(0, len(beamDist[i])):\n",
    "\t\t\tbeamDistances[i].extend([float(beamDist[i][j])])\n",
    "\n",
    "\tfor i in range(0, len(pillarDist)):\n",
    "\t\tpillarDistances.append([])\n",
    "\t\tfor j in range(0, len(pillarDist[i])):\n",
    "\t\t\tpillarDistances[i].extend([float(pillarDist[i][j])])"
   ]
  },
  {
   "cell_type": "markdown",
   "metadata": {},
   "source": [
    "these lines create frames of the structure according to the function structureFrame from the previous workshop"
   ]
  },
  {
   "cell_type": "code",
   "execution_count": 1,
   "metadata": {
    "collapsed": false
   },
   "outputs": [
    {
     "ename": "IndentationError",
     "evalue": "unexpected indent (<ipython-input-1-11c1495bd035>, line 3)",
     "output_type": "error",
     "traceback": [
      "\u001b[0;36m  File \u001b[0;32m\"<ipython-input-1-11c1495bd035>\"\u001b[0;36m, line \u001b[0;32m3\u001b[0m\n\u001b[0;31m    frames = [workshop_01.structureFrame(beamDimensions[0], pillarDimensions[0], beamDistances[0], pillarDistances[0])]\u001b[0m\n\u001b[0m    ^\u001b[0m\n\u001b[0;31mIndentationError\u001b[0m\u001b[0;31m:\u001b[0m unexpected indent\n"
     ]
    }
   ],
   "source": [
    "# creates frames using an existing function from the previous workshop\n",
    "\n",
    "\tframes = [workshop_01.structureFrame(beamDimensions[0], pillarDimensions[0], beamDistances[0], pillarDistances[0])]\n",
    "\tfor i in range(1, len(frameDistancesX)):\n",
    "\t\tframes.extend([T(1)(frameDistancesX[i-1]), workshop_01.structureFrame(beamDimensions[i], pillarDimensions[i], beamDistances[i], pillarDistances[i])])\n",
    "\tframes = STRUCT(frames)"
   ]
  },
  {
   "cell_type": "markdown",
   "metadata": {},
   "source": [
    "resulting structure obtained with VIEW(frames)"
   ]
  },
  {
   "cell_type": "markdown",
   "metadata": {},
   "source": [
    "<img src=\"frames.png\">"
   ]
  },
  {
   "cell_type": "markdown",
   "metadata": {},
   "source": [
    "creates beams between two frames and then replicate this action for constructing every beam of the final structure"
   ]
  },
  {
   "cell_type": "code",
   "execution_count": null,
   "metadata": {
    "collapsed": true
   },
   "outputs": [],
   "source": [
    "# creates beams between two frames\n",
    "\n",
    "\tdef createBeams(x, dimensions, distancesY, distancesZ):\n",
    "\t\tbeamsX = []\n",
    "\t\tbeamsY = []\n",
    "\t\tbeamsZ = []\n",
    "\t\t(y,z) = dimensions\n",
    "\t\t# Y\n",
    "\t\tfor i in range(0, len(distancesY)):\n",
    "\t\t\tbeamsY.extend([y, -distancesY[i]])\n",
    "\n",
    "\t\tfor i in range(0, len(distancesZ)):\n",
    "\t\t\tbeamsZ.extend([-distancesZ[i], z])\n",
    "\n",
    "\t\tbeamsX.extend([-y, x])\n",
    "\n",
    "\t\tbase = PROD([QUOTE(beamsX), QUOTE(beamsY)])\n",
    "\n",
    "\t\tbeams = PROD([base, QUOTE(beamsZ)])\n",
    "\t\treturn beams\n",
    "\n",
    "\t# creates beams between every frame\n",
    "\n",
    "\txBeams = [createBeams(frameDistancesX[0], beamDimensions[0], pillarDistances[0], beamDistances[0])]\n",
    "\n",
    "\tfor i in range(1, len(frameDistancesX)-1):\n",
    "\t\txBeams.extend([T(1)(frameDistancesX[i-1]), createBeams(frameDistancesX[i], beamDimensions[i], pillarDistances[i], beamDistances[i])])\n",
    "\txBeams = STRUCT(xBeams)"
   ]
  },
  {
   "cell_type": "markdown",
   "metadata": {},
   "source": [
    "resulting structure obtained with VIEW(xBeams)"
   ]
  },
  {
   "cell_type": "markdown",
   "metadata": {},
   "source": [
    "<img src=\"beams.png\">"
   ]
  },
  {
   "cell_type": "markdown",
   "metadata": {},
   "source": [
    "uses frames and the group of beams to build the final structure"
   ]
  },
  {
   "cell_type": "code",
   "execution_count": null,
   "metadata": {
    "collapsed": true
   },
   "outputs": [],
   "source": [
    "\tfinal = STRUCT([frames, xBeams])\n",
    "\treturn final"
   ]
  },
  {
   "cell_type": "markdown",
   "metadata": {},
   "source": [
    "main function to call each other"
   ]
  },
  {
   "cell_type": "code",
   "execution_count": null,
   "metadata": {
    "collapsed": true
   },
   "outputs": [],
   "source": [
    "if __name__ == \"__main__\":\n",
    "\ts = ggpl_bone_structure(\"frame_data_448429.csv\")\n",
    "\tVIEW(s)"
   ]
  },
  {
   "cell_type": "markdown",
   "metadata": {},
   "source": [
    "completed reinforced concrete structure:"
   ]
  },
  {
   "cell_type": "markdown",
   "metadata": {},
   "source": [
    "<img src=\"finale.png\">"
   ]
  }
 ],
 "metadata": {
  "kernelspec": {
   "display_name": "Python 2",
   "language": "python",
   "name": "python2"
  },
  "language_info": {
   "codemirror_mode": {
    "name": "ipython",
    "version": 2
   },
   "file_extension": ".py",
   "mimetype": "text/x-python",
   "name": "python",
   "nbconvert_exporter": "python",
   "pygments_lexer": "ipython2",
   "version": "2.7.3"
  }
 },
 "nbformat": 4,
 "nbformat_minor": 1
}
